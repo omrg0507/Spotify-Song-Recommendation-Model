{
 "cells": [
  {
   "cell_type": "markdown",
   "id": "12f61ab4",
   "metadata": {},
   "source": [
    "pip install spotipy"
   ]
  },
  {
   "cell_type": "code",
   "execution_count": 1,
   "id": "044213ab",
   "metadata": {},
   "outputs": [],
   "source": [
    "import requests\n",
    "import base64\n",
    "import pandas as pd\n",
    "import spotipy\n",
    "from spotipy.oauth2 import SpotifyOAuth\n",
    "import numpy as np\n",
    "from sklearn.model_selection import train_test_split\n",
    "from sklearn.preprocessing import MinMaxScaler\n",
    "from datetime import datetime\n",
    "from sklearn.metrics.pairwise import cosine_similarity\n",
    "\n"
   ]
  },
  {
   "cell_type": "code",
   "execution_count": 2,
   "id": "ff55748a",
   "metadata": {},
   "outputs": [],
   "source": [
    "CLIENT_ID = '9b28dcff973443f29231656d5bbd6898'\n",
    "CLIENT_SECRET = 'e1a120ffb748430a86f19c3e6c474a5c'"
   ]
  },
  {
   "cell_type": "code",
   "execution_count": 3,
   "id": "a5169d96",
   "metadata": {},
   "outputs": [],
   "source": [
    "# Base64 encode the client ID and client secret\n",
    "client_credentials = f\"{CLIENT_ID}:{CLIENT_SECRET}\"\n",
    "client_credentials_base64 = base64.b64encode(client_credentials.encode())\n"
   ]
  },
  {
   "cell_type": "code",
   "execution_count": 4,
   "id": "777d31f0",
   "metadata": {},
   "outputs": [
    {
     "name": "stdout",
     "output_type": "stream",
     "text": [
      "Access token obtained successfully.\n"
     ]
    }
   ],
   "source": [
    "# Request access token\n",
    "token_url = 'https://accounts.spotify.com/api/token'\n",
    "headers = {\n",
    "    'Authorization': f'Basic {client_credentials_base64.decode()}'\n",
    "}\n",
    "data = {\n",
    "    'grant_type': 'client_credentials'\n",
    "}\n",
    "response = requests.post(token_url, data=data, headers=headers)\n",
    "\n",
    "if response.status_code == 200:\n",
    "    access_token = response.json()['access_token']\n",
    "    print(\"Access token obtained successfully.\")\n",
    "else:\n",
    "    print(\"Error obtaining access token.\")\n",
    "    exit()"
   ]
  },
  {
   "cell_type": "code",
   "execution_count": 5,
   "id": "baf3c9cc",
   "metadata": {},
   "outputs": [],
   "source": [
    "def get_trending_playlist_data(playlist_id, access_token):\n",
    "    # Set up Spotipy with the access token\n",
    "    sp = spotipy.Spotify(auth=access_token)\n",
    "\n",
    "    # Get the tracks from the playlist\n",
    "    playlist_tracks = sp.playlist_tracks(playlist_id, fields='items(track(id, name, artists, album(id, name)))')\n",
    "\n",
    "    # Extract relevant information and store in a list of dictionaries\n",
    "    music_data = []\n",
    "    for track_info in playlist_tracks['items']:\n",
    "        track = track_info['track']\n",
    "        track_name = track['name']\n",
    "        artists = ', '.join([artist['name'] for artist in track['artists']])\n",
    "        album_name = track['album']['name']\n",
    "        album_id = track['album']['id']\n",
    "        track_id = track['id']\n",
    "\n",
    "        # Get audio features for the track\n",
    "        audio_features = sp.audio_features(track_id)[0] if track_id != 'Not available' else None\n",
    "\n",
    "        # Get release date of the album\n",
    "        try:\n",
    "            album_info = sp.album(album_id) if album_id != 'Not available' else None\n",
    "            release_date = album_info['release_date'] if album_info else None\n",
    "        except:\n",
    "            release_date = None\n",
    "\n",
    "        # Get popularity of the track\n",
    "        try:\n",
    "            track_info = sp.track(track_id) if track_id != 'Not available' else None\n",
    "            popularity = track_info['popularity'] if track_info else None\n",
    "        except:\n",
    "            popularity = None\n",
    "\n",
    "        # Add additional track information to the track data\n",
    "        track_data = {\n",
    "            'Track Name': track_name,\n",
    "            'Artists': artists,\n",
    "            'Album Name': album_name,\n",
    "            'Album ID': album_id,\n",
    "            'Track ID': track_id,\n",
    "            'Popularity': popularity,\n",
    "            'Release Date': release_date,\n",
    "            'Duration (ms)': audio_features['duration_ms'] if audio_features else None,\n",
    "            'Explicit': track_info.get('explicit', None),\n",
    "            'External URLs': track_info.get('external_urls', {}).get('spotify', None),\n",
    "            'Danceability': audio_features['danceability'] if audio_features else None,\n",
    "            'Energy': audio_features['energy'] if audio_features else None,\n",
    "            'Key': audio_features['key'] if audio_features else None,\n",
    "            'Loudness': audio_features['loudness'] if audio_features else None,\n",
    "            'Mode': audio_features['mode'] if audio_features else None,\n",
    "            'Speechiness': audio_features['speechiness'] if audio_features else None,\n",
    "            'Acousticness': audio_features['acousticness'] if audio_features else None,\n",
    "            'Instrumentalness': audio_features['instrumentalness'] if audio_features else None,\n",
    "            'Liveness': audio_features['liveness'] if audio_features else None,\n",
    "            'Valence': audio_features['valence'] if audio_features else None,\n",
    "            'Tempo': audio_features['tempo'] if audio_features else None,\n",
    "            # Add more attributes as needed\n",
    "        }\n",
    "\n",
    "        music_data.append(track_data)\n",
    "\n",
    "    # Create a pandas DataFrame from the list of dictionaries\n",
    "    df = pd.DataFrame(music_data)\n",
    "\n",
    "    return df"
   ]
  },
  {
   "cell_type": "code",
   "execution_count": 6,
   "id": "9439d16b",
   "metadata": {},
   "outputs": [
    {
     "name": "stdout",
     "output_type": "stream",
     "text": [
      "                      Track Name                                   Artists  \\\n",
      "0                    Not Like Us                            Kendrick Lamar   \n",
      "1                        Houdini                                    Eminem   \n",
      "2     BAND4BAND (feat. Lil Baby)                     Central Cee, Lil Baby   \n",
      "3                          Pedro   Jaxomy, Agatino Romero, Raffaella Carrà   \n",
      "4             I Don't Wanna Wait                 David Guetta, OneRepublic   \n",
      "..                           ...                                       ...   \n",
      "95             Edge of Seventeen                                      Wuki   \n",
      "96          Marianela (Que Pasa)  HUGEL, Merk & Kremont, Lirico En La Casa   \n",
      "97                          Vent                                      NOIT   \n",
      "98                    Rhyme Dust                             MK, Dom Dolla   \n",
      "99  Kernkraft 400 (A Better Day)                                Topic, A7S   \n",
      "\n",
      "                      Album Name                Album ID  \\\n",
      "0                    Not Like Us  5JjnoGJyOxfSZUZtk2rRwZ   \n",
      "1                        Houdini  6Xuu2z00jxRPZei4IJ9neK   \n",
      "2     BAND4BAND (feat. Lil Baby)  4AzPr5SUpNF553eC1d3aRy   \n",
      "3                          Pedro  5y6RXjI5VPR0RyInghTbf1   \n",
      "4             I Don't Wanna Wait  0wCLHkBRKcndhMQQpeo8Ji   \n",
      "..                           ...                     ...   \n",
      "95             Edge of Seventeen  6oeEtPWpOfed7plMHI5qef   \n",
      "96          Marianela (Que Pasa)  5As1VmPUMn4HIgYSbFD6l0   \n",
      "97                          Vent  5wr0mILtj1RIw3ig141YpU   \n",
      "98                    Rhyme Dust  1vSO4N7cwo4pBywCSGF5BR   \n",
      "99  Kernkraft 400 (A Better Day)  2NIChqkijGw4r4Dqfmg0A3   \n",
      "\n",
      "                  Track ID  Popularity Release Date  Duration (ms)  Explicit  \\\n",
      "0   6AI3ezQ4o3HUoP6Dhudph3          93   2024-05-04         274192      True   \n",
      "1   2HYFX63wP3otVIvopRS99Z          91   2024-05-31         227239      True   \n",
      "2   7iabz12vAuVQYyekFIWJxD          88   2024-05-23         140733      True   \n",
      "3   48lxT5qJF0yYyf2z4wB4xW          86   2024-03-29         144846     False   \n",
      "4   331l3xABO0HMr1Kkyh2LZq          86   2024-04-05         149668     False   \n",
      "..                     ...         ...          ...            ...       ...   \n",
      "95  5IFSvSEeCAvvBEQ85poqKB          67   2022-10-21         164043     False   \n",
      "96  5bZjb7xKqLqa58QiUBcVvl          67   2022-11-25         145766     False   \n",
      "97  4yMXKeuRDOIzrh3fBiJYds          67   2024-03-01         176898      True   \n",
      "98  59QDyqLww2pxyg9ijOPO7f          67   2023-02-24         181365     False   \n",
      "99  3kcKlOkQQEPVwxwljbGJ5p          66   2022-06-17         165800     False   \n",
      "\n",
      "                                        External URLs  ...  Energy  Key  \\\n",
      "0   https://open.spotify.com/track/6AI3ezQ4o3HUoP6...  ...   0.472    1   \n",
      "1   https://open.spotify.com/track/2HYFX63wP3otVIv...  ...   0.887    9   \n",
      "2   https://open.spotify.com/track/7iabz12vAuVQYye...  ...   0.764   11   \n",
      "3   https://open.spotify.com/track/48lxT5qJF0yYyf2...  ...   0.936    9   \n",
      "4   https://open.spotify.com/track/331l3xABO0HMr1K...  ...   0.714    1   \n",
      "..                                                ...  ...     ...  ...   \n",
      "95  https://open.spotify.com/track/5IFSvSEeCAvvBEQ...  ...   0.909    5   \n",
      "96  https://open.spotify.com/track/5bZjb7xKqLqa58Q...  ...   0.885    1   \n",
      "97  https://open.spotify.com/track/4yMXKeuRDOIzrh3...  ...   0.583    3   \n",
      "98  https://open.spotify.com/track/59QDyqLww2pxyg9...  ...   0.561    3   \n",
      "99  https://open.spotify.com/track/3kcKlOkQQEPVwxw...  ...   0.727   11   \n",
      "\n",
      "    Loudness  Mode  Speechiness  Acousticness  Instrumentalness  Liveness  \\\n",
      "0     -7.001     1       0.0776        0.0107          0.000000    0.1410   \n",
      "1     -2.760     0       0.0683        0.0292          0.000002    0.0582   \n",
      "2     -5.241     1       0.2040        0.3590          0.000000    0.1190   \n",
      "3     -6.294     1       0.3010        0.0229          0.000001    0.3110   \n",
      "4     -4.617     0       0.0309        0.0375          0.000000    0.2320   \n",
      "..       ...   ...          ...           ...               ...       ...   \n",
      "95    -5.999     0       0.0476        0.0324          0.527000    0.0800   \n",
      "96    -4.184     1       0.0498        0.0353          0.006550    0.0785   \n",
      "97    -9.584     0       0.3760        0.0295          0.001170    0.1620   \n",
      "98    -8.675     1       0.1760        0.0659          0.027100    0.1520   \n",
      "99    -5.570     0       0.0562        0.1840          0.000020    0.3090   \n",
      "\n",
      "    Valence    Tempo  \n",
      "0     0.214  101.061  \n",
      "1     0.889  127.003  \n",
      "2     0.886  140.113  \n",
      "3     0.844  151.019  \n",
      "4     0.554  129.976  \n",
      "..      ...      ...  \n",
      "95    0.351  127.997  \n",
      "96    0.532  124.041  \n",
      "97    0.954  126.183  \n",
      "98    0.721  128.034  \n",
      "99    0.400  125.975  \n",
      "\n",
      "[100 rows x 21 columns]\n"
     ]
    }
   ],
   "source": [
    "playlist_id = '37i9dQZF1DX76Wlfdnj7AP'\n",
    "\n",
    "# Call the function to get the music data from the playlist and store it in a DataFrame\n",
    "music_df = get_trending_playlist_data(playlist_id, access_token)\n",
    "\n",
    "# Display the DataFrame\n",
    "print(music_df)"
   ]
  },
  {
   "cell_type": "code",
   "execution_count": 7,
   "id": "83b77f4c",
   "metadata": {},
   "outputs": [
    {
     "name": "stdout",
     "output_type": "stream",
     "text": [
      "Track Name          0\n",
      "Artists             0\n",
      "Album Name          0\n",
      "Album ID            0\n",
      "Track ID            0\n",
      "Popularity          0\n",
      "Release Date        0\n",
      "Duration (ms)       0\n",
      "Explicit            0\n",
      "External URLs       0\n",
      "Danceability        0\n",
      "Energy              0\n",
      "Key                 0\n",
      "Loudness            0\n",
      "Mode                0\n",
      "Speechiness         0\n",
      "Acousticness        0\n",
      "Instrumentalness    0\n",
      "Liveness            0\n",
      "Valence             0\n",
      "Tempo               0\n",
      "dtype: int64\n"
     ]
    }
   ],
   "source": [
    "print(music_df.isnull().sum())"
   ]
  },
  {
   "cell_type": "code",
   "execution_count": 8,
   "id": "d4985ded",
   "metadata": {},
   "outputs": [],
   "source": [
    "data = music_df"
   ]
  },
  {
   "cell_type": "code",
   "execution_count": 9,
   "id": "79c03f09",
   "metadata": {},
   "outputs": [],
   "source": [
    "# Function to calculate weighted popularity scores based on release date\n",
    "def calculate_weighted_popularity(release_date):\n",
    "    # Convert the release date to datetime object\n",
    "    release_date = datetime.strptime(release_date, '%Y-%m-%d')\n",
    "\n",
    "    # Calculate the time span between release date and today's date\n",
    "    time_span = datetime.now() - release_date\n",
    "\n",
    "    # Calculate the weighted popularity score based on time span (e.g., more recent releases have higher weight)\n",
    "    weight = 1 / (time_span.days + 1)\n",
    "    return weight"
   ]
  },
  {
   "cell_type": "code",
   "execution_count": 10,
   "id": "127b1caa",
   "metadata": {},
   "outputs": [],
   "source": [
    "# Normalize the music features using Min-Max scaling\n",
    "scaler = MinMaxScaler()\n",
    "music_features = music_df[['Danceability', 'Energy', 'Key', \n",
    "                           'Loudness', 'Mode', 'Speechiness', 'Acousticness',\n",
    "                           'Instrumentalness', 'Liveness', 'Valence', 'Tempo']].values\n",
    "music_features_scaled = scaler.fit_transform(music_features)"
   ]
  },
  {
   "cell_type": "code",
   "execution_count": 11,
   "id": "c4373e79",
   "metadata": {},
   "outputs": [],
   "source": [
    "# a function to get content-based recommendations based on music features\n",
    "def content_based_recommendations(input_song_name, num_recommendations=5):\n",
    "    if input_song_name not in music_df['Track Name'].values:\n",
    "        print(f\"'{input_song_name}' not found in the dataset. Please enter a valid song name.\")\n",
    "        return\n",
    "\n",
    "    # Get the index of the input song in the music DataFrame\n",
    "    input_song_index = music_df[music_df['Track Name'] == input_song_name].index[0]\n",
    "\n",
    "    # Calculate the similarity scores based on music features (cosine similarity)\n",
    "    similarity_scores = cosine_similarity([music_features_scaled[input_song_index]], music_features_scaled)\n",
    "\n",
    "    # Get the indices of the most similar songs\n",
    "    similar_song_indices = similarity_scores.argsort()[0][::-1][1:num_recommendations + 1]\n",
    "\n",
    "    # Get the names of the most similar songs based on content-based filtering\n",
    "    content_based_recommendations = music_df.iloc[similar_song_indices][['Track Name', 'Artists', 'Album Name', 'Release Date', 'Popularity']]\n",
    "\n",
    "    return content_based_recommendations"
   ]
  },
  {
   "cell_type": "code",
   "execution_count": 12,
   "id": "c6471ba0",
   "metadata": {},
   "outputs": [],
   "source": [
    "# a function to get hybrid recommendations based on weighted popularity\n",
    "def hybrid_recommendations(input_song_name, num_recommendations=5, alpha=0.5):\n",
    "    if input_song_name not in music_df['Track Name'].values:\n",
    "        print(f\"'{input_song_name}' not found in the dataset. Please enter a valid song name.\")\n",
    "        return\n",
    "\n",
    "    # Get content-based recommendations\n",
    "    content_based_rec = content_based_recommendations(input_song_name, num_recommendations)\n",
    "\n",
    "    # Get the popularity score of the input song\n",
    "    popularity_score = music_df.loc[music_df['Track Name'] == input_song_name, 'Popularity'].values[0]\n",
    "\n",
    "    # Calculate the weighted popularity score\n",
    "    weighted_popularity_score = popularity_score * calculate_weighted_popularity(music_df.loc[music_df['Track Name'] == input_song_name, 'Release Date'].values[0])\n",
    "\n",
    "    # Combine content-based and popularity-based recommendations based on weighted popularity\n",
    "    hybrid_recommendations = content_based_rec\n",
    "    hybrid_recommendations = hybrid_recommendations.append({\n",
    "        'Track Name': input_song_name,\n",
    "        'Artists': music_df.loc[music_df['Track Name'] == input_song_name, 'Artists'].values[0],\n",
    "        'Album Name': music_df.loc[music_df['Track Name'] == input_song_name, 'Album Name'].values[0],\n",
    "        'Release Date': music_df.loc[music_df['Track Name'] == input_song_name, 'Release Date'].values[0],\n",
    "        'Popularity': weighted_popularity_score\n",
    "    }, ignore_index=True)\n",
    "\n",
    "    # Sort the hybrid recommendations based on weighted popularity score\n",
    "    hybrid_recommendations = hybrid_recommendations.sort_values(by='Popularity', ascending=False)\n",
    "\n",
    "    # Remove the input song from the recommendations\n",
    "    hybrid_recommendations = hybrid_recommendations[hybrid_recommendations['Track Name'] != input_song_name]\n",
    "\n",
    "\n",
    "    return hybrid_recommendations"
   ]
  },
  {
   "cell_type": "code",
   "execution_count": 13,
   "id": "f1a24c10",
   "metadata": {},
   "outputs": [
    {
     "name": "stdout",
     "output_type": "stream",
     "text": [
      "Hybrid recommended songs for 'I'm Good (Blue)':\n",
      "                     Track Name                                     Artists  \\\n",
      "4  It's Not Right But It's Okay                            Mr. Belt & Wezol   \n",
      "3                  Call It Love                     Felix Jaehn, Ray Dalton   \n",
      "2                 Where You Are                          John Summit, HAYLA   \n",
      "0                   In My Bones             Lost Frequencies, David Kushner   \n",
      "1                         REACT  Switch Disco, Ella Henderson, Robert Miles   \n",
      "\n",
      "                     Album Name Release Date  Popularity  \n",
      "4  It's Not Right But It's Okay   2024-02-23        79.0  \n",
      "3                  Call It Love   2022-09-16        74.0  \n",
      "2                 Where You Are   2023-03-03        72.0  \n",
      "0                   In My Bones   2024-04-19        71.0  \n",
      "1                         REACT   2023-01-13        71.0  \n"
     ]
    },
    {
     "name": "stderr",
     "output_type": "stream",
     "text": [
      "C:\\Users\\omgan\\AppData\\Local\\Temp\\ipykernel_18764\\209674984.py:18: FutureWarning: The frame.append method is deprecated and will be removed from pandas in a future version. Use pandas.concat instead.\n",
      "  hybrid_recommendations = hybrid_recommendations.append({\n"
     ]
    }
   ],
   "source": [
    "input_song_name = \"I'm Good (Blue)\"\n",
    "recommendations = hybrid_recommendations(input_song_name, num_recommendations=5)\n",
    "print(f\"Hybrid recommended songs for '{input_song_name}':\")\n",
    "print(recommendations)"
   ]
  },
  {
   "cell_type": "code",
   "execution_count": null,
   "id": "7cacf774",
   "metadata": {},
   "outputs": [],
   "source": []
  },
  {
   "cell_type": "code",
   "execution_count": null,
   "id": "edb76d37",
   "metadata": {},
   "outputs": [],
   "source": []
  }
 ],
 "metadata": {
  "kernelspec": {
   "display_name": "Python 3 (ipykernel)",
   "language": "python",
   "name": "python3"
  },
  "language_info": {
   "codemirror_mode": {
    "name": "ipython",
    "version": 3
   },
   "file_extension": ".py",
   "mimetype": "text/x-python",
   "name": "python",
   "nbconvert_exporter": "python",
   "pygments_lexer": "ipython3",
   "version": "3.9.13"
  }
 },
 "nbformat": 4,
 "nbformat_minor": 5
}
